{
 "cells": [
  {
   "cell_type": "code",
   "execution_count": 6,
   "id": "df0f546a",
   "metadata": {},
   "outputs": [
    {
     "name": "stdout",
     "output_type": "stream",
     "text": [
      "Collecting mediapipe\n",
      "  Using cached mediapipe-0.9.1.0-cp310-cp310-win_amd64.whl (49.8 MB)\n",
      "Collecting opencv-contrib-python\n",
      "  Using cached opencv_contrib_python-4.7.0.68-cp37-abi3-win_amd64.whl (44.9 MB)\n",
      "Requirement already satisfied: absl-py in c:\\users\\hk-edu\\.conda\\envs\\han\\lib\\site-packages (from mediapipe) (1.4.0)\n",
      "Requirement already satisfied: flatbuffers>=2.0 in c:\\users\\hk-edu\\appdata\\roaming\\python\\python310\\site-packages (from mediapipe) (23.1.21)\n",
      "Requirement already satisfied: protobuf<4,>=3.11 in c:\\users\\hk-edu\\appdata\\roaming\\python\\python310\\site-packages (from mediapipe) (3.19.6)\n",
      "Requirement already satisfied: attrs>=19.1.0 in c:\\users\\hk-edu\\.conda\\envs\\han\\lib\\site-packages (from mediapipe) (22.1.0)\n",
      "Requirement already satisfied: numpy in c:\\users\\hk-edu\\appdata\\roaming\\python\\python310\\site-packages (from mediapipe) (1.24.2)\n",
      "Requirement already satisfied: matplotlib in c:\\users\\hk-edu\\.conda\\envs\\han\\lib\\site-packages (from mediapipe) (3.6.2)\n",
      "Requirement already satisfied: pyparsing>=2.2.1 in c:\\users\\hk-edu\\.conda\\envs\\han\\lib\\site-packages (from matplotlib->mediapipe) (3.0.9)\n",
      "Requirement already satisfied: contourpy>=1.0.1 in c:\\users\\hk-edu\\.conda\\envs\\han\\lib\\site-packages (from matplotlib->mediapipe) (1.0.6)\n",
      "Requirement already satisfied: kiwisolver>=1.0.1 in c:\\users\\hk-edu\\.conda\\envs\\han\\lib\\site-packages (from matplotlib->mediapipe) (1.4.4)\n",
      "Requirement already satisfied: fonttools>=4.22.0 in c:\\users\\hk-edu\\.conda\\envs\\han\\lib\\site-packages (from matplotlib->mediapipe) (4.38.0)\n",
      "Requirement already satisfied: packaging>=20.0 in c:\\users\\hk-edu\\appdata\\roaming\\python\\python310\\site-packages (from matplotlib->mediapipe) (23.0)\n",
      "Requirement already satisfied: python-dateutil>=2.7 in c:\\users\\hk-edu\\.conda\\envs\\han\\lib\\site-packages (from matplotlib->mediapipe) (2.8.2)\n",
      "Requirement already satisfied: cycler>=0.10 in c:\\users\\hk-edu\\.conda\\envs\\han\\lib\\site-packages (from matplotlib->mediapipe) (0.11.0)\n",
      "Requirement already satisfied: pillow>=6.2.0 in c:\\users\\hk-edu\\.conda\\envs\\han\\lib\\site-packages (from matplotlib->mediapipe) (9.4.0)\n",
      "Requirement already satisfied: six>=1.5 in c:\\users\\hk-edu\\.conda\\envs\\han\\lib\\site-packages (from python-dateutil>=2.7->matplotlib->mediapipe) (1.16.0)\n",
      "Installing collected packages: opencv-contrib-python, mediapipe\n",
      "Successfully installed mediapipe-0.9.1.0 opencv-contrib-python-4.7.0.68\n"
     ]
    }
   ],
   "source": [
    "!pip install --user mediapipe"
   ]
  },
  {
   "cell_type": "code",
   "execution_count": 7,
   "id": "898f20b6",
   "metadata": {},
   "outputs": [
    {
     "ename": "error",
     "evalue": "OpenCV(4.7.0) D:\\a\\opencv-python\\opencv-python\\opencv\\modules\\imgproc\\src\\color.cpp:182: error: (-215:Assertion failed) !_src.empty() in function 'cv::cvtColor'\n",
     "output_type": "error",
     "traceback": [
      "\u001b[1;31m---------------------------------------------------------------------------\u001b[0m",
      "\u001b[1;31merror\u001b[0m                                     Traceback (most recent call last)",
      "Cell \u001b[1;32mIn[7], line 13\u001b[0m\n\u001b[0;32m     11\u001b[0m image \u001b[38;5;241m=\u001b[39m cv2\u001b[38;5;241m.\u001b[39mimread(file)\n\u001b[0;32m     12\u001b[0m \u001b[38;5;66;03m# Convert the BGR image to RGB and process it with MediaPipe Face Detection.\u001b[39;00m\n\u001b[1;32m---> 13\u001b[0m results \u001b[38;5;241m=\u001b[39m face_detection\u001b[38;5;241m.\u001b[39mprocess(\u001b[43mcv2\u001b[49m\u001b[38;5;241;43m.\u001b[39;49m\u001b[43mcvtColor\u001b[49m\u001b[43m(\u001b[49m\u001b[43mimage\u001b[49m\u001b[43m,\u001b[49m\u001b[43m \u001b[49m\u001b[43mcv2\u001b[49m\u001b[38;5;241;43m.\u001b[39;49m\u001b[43mCOLOR_BGR2RGB\u001b[49m\u001b[43m)\u001b[49m)\n\u001b[0;32m     15\u001b[0m \u001b[38;5;66;03m# Draw face detections of each face.\u001b[39;00m\n\u001b[0;32m     16\u001b[0m \u001b[38;5;28;01mif\u001b[39;00m \u001b[38;5;129;01mnot\u001b[39;00m results\u001b[38;5;241m.\u001b[39mdetections:\n",
      "\u001b[1;31merror\u001b[0m: OpenCV(4.7.0) D:\\a\\opencv-python\\opencv-python\\opencv\\modules\\imgproc\\src\\color.cpp:182: error: (-215:Assertion failed) !_src.empty() in function 'cv::cvtColor'\n"
     ]
    }
   ],
   "source": [
    "import cv2\n",
    "import mediapipe as mp\n",
    "mp_face_detection = mp.solutions.face_detection\n",
    "mp_drawing = mp.solutions.drawing_utils\n",
    "\n",
    "# For static images:\n",
    "IMAGE_FILES = ['./open_cv.jpg'] # 이미지 파일 지정함\n",
    "\n",
    "with mp_face_detection.FaceDetection(model_selection=1, min_detection_confidence=0.5) as face_detection:\n",
    "  for idx, file in enumerate(IMAGE_FILES):\n",
    "    image = cv2.imread(file)\n",
    "    # Convert the BGR image to RGB and process it with MediaPipe Face Detection.\n",
    "    results = face_detection.process(cv2.cvtColor(image, cv2.COLOR_BGR2RGB))\n",
    "\n",
    "    # Draw face detections of each face.\n",
    "    if not results.detections:\n",
    "      continue\n",
    "    annotated_image = image.copy()\n",
    "    for detection in results.detections:\n",
    "      print('Nose tip:')\n",
    "      print(mp_face_detection.get_key_point(detection, mp_face_detection.FaceKeyPoint.NOSE_TIP))#코끝 감지\n",
    "        \n",
    "      print('오른쪽 눈:')\n",
    "      print(mp_face_detection.get_key_point(detection, mp_face_detection.FaceKeyPoint.RIGHT_EYE))#오른쪽 눈\n",
    "        \n",
    "      print('왼쪽 눈:')\n",
    "      print(mp_face_detection.get_key_point(detection, mp_face_detection.FaceKeyPoint.LEFT_EYE))# 왼쪽 눈\n",
    "        \n",
    "      print('입 중심:')\n",
    "      print(mp_face_detection.get_key_point(detection, mp_face_detection.FaceKeyPoint.MOUTH_CENTER))#입 중심\n",
    "        \n",
    "      print('오른쪽 귀:')\n",
    "      print(mp_face_detection.get_key_point(detection, mp_face_detection.FaceKeyPoint.RIGHT_EAR_TRAGION))#오른쪽 귀\n",
    "        \n",
    "      print('왼쪽 귀:')\n",
    "      print(mp_face_detection.get_key_point(detection, mp_face_detection.FaceKeyPoint.LEFT_EAR_TRAGION))#왼쪽 귀\n",
    "\n",
    "      \n",
    "      mp_drawing.draw_detection(annotated_image, detection)\n",
    "    cv2.imwrite('annotated_image' + str(idx) + '.jpg', annotated_image)"
   ]
  },
  {
   "cell_type": "code",
   "execution_count": 1,
   "id": "4dc4f487",
   "metadata": {},
   "outputs": [
    {
     "data": {
      "text/plain": [
       "'C:\\\\Users\\\\hmh\\\\Documents\\\\py\\\\_이미지\\\\mediapipe'"
      ]
     },
     "execution_count": 1,
     "metadata": {},
     "output_type": "execute_result"
    }
   ],
   "source": [
    "pwd"
   ]
  },
  {
   "cell_type": "code",
   "execution_count": 15,
   "id": "3d5d4a61",
   "metadata": {},
   "outputs": [
    {
     "name": "stdout",
     "output_type": "stream",
     "text": [
      "xmin: 0.48920994997024536\n",
      "ymin: 0.2587476074695587\n",
      "width: 0.06980359554290771\n",
      "height: 0.10438024997711182\n",
      "\n",
      "Nose tip:\n",
      "x: 0.5250846147537231\n",
      "y: 0.31368646025657654\n",
      "\n",
      "xmin: 0.1805519163608551\n",
      "ymin: 0.3333309590816498\n",
      "width: 0.06065377593040466\n",
      "height: 0.0906376838684082\n",
      "\n",
      "Nose tip:\n",
      "x: 0.21966151893138885\n",
      "y: 0.3748025596141815\n",
      "\n",
      "xmin: 0.36582472920417786\n",
      "ymin: 0.36784127354621887\n",
      "width: 0.06253379583358765\n",
      "height: 0.09347432851791382\n",
      "\n",
      "Nose tip:\n",
      "x: 0.40158721804618835\n",
      "y: 0.41424360871315\n",
      "\n",
      "xmin: 0.7832841873168945\n",
      "ymin: 0.26237091422080994\n",
      "width: 0.06381303071975708\n",
      "height: 0.095450758934021\n",
      "\n",
      "Nose tip:\n",
      "x: 0.8104060292243958\n",
      "y: 0.3089529573917389\n",
      "\n",
      "xmin: 0.6199003458023071\n",
      "ymin: 0.21276208758354187\n",
      "width: 0.06275427341461182\n",
      "height: 0.09381598234176636\n",
      "\n",
      "Nose tip:\n",
      "x: 0.6461549401283264\n",
      "y: 0.2599489390850067\n",
      "\n",
      "xmin: 0.32851845026016235\n",
      "ymin: 0.28402307629585266\n",
      "width: 0.05134943127632141\n",
      "height: 0.07677274942398071\n",
      "\n",
      "Nose tip:\n",
      "x: 0.3573139011859894\n",
      "y: 0.32127413153648376\n",
      "\n"
     ]
    }
   ],
   "source": [
    "for detection in results.detections:\n",
    "    print(detection.location_data.relative_bounding_box)\n",
    "    print('Nose tip:')\n",
    "    print(mp_face_detection.get_key_point(detection, mp_face_detection.FaceKeyPoint.NOSE_TIP))\n",
    "    mp_drawing.draw_detection(annotated_image, detection)"
   ]
  },
  {
   "cell_type": "code",
   "execution_count": null,
   "id": "ab7c6c75",
   "metadata": {},
   "outputs": [],
   "source": []
  }
 ],
 "metadata": {
  "kernelspec": {
   "display_name": "Python 3 (ipykernel)",
   "language": "python",
   "name": "python3"
  },
  "language_info": {
   "codemirror_mode": {
    "name": "ipython",
    "version": 3
   },
   "file_extension": ".py",
   "mimetype": "text/x-python",
   "name": "python",
   "nbconvert_exporter": "python",
   "pygments_lexer": "ipython3",
   "version": "3.10.8"
  }
 },
 "nbformat": 4,
 "nbformat_minor": 5
}
